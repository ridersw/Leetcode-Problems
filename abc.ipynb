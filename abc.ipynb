{
 "cells": [
  {
   "cell_type": "code",
   "execution_count": null,
   "id": "a861cf0a",
   "metadata": {},
   "outputs": [],
   "source": [
    "#Importing libraries\n",
    "import random\n",
    "import numpy as np\n",
    "import copy\n"
   ]
  },
  {
   "cell_type": "code",
   "execution_count": null,
   "id": "eff7d58d",
   "metadata": {},
   "outputs": [],
   "source": [
    "#list of the cities given\n",
    "cities=\"\"\"\n",
    "Bakersfield\n",
    "Barstow\n",
    "carlsbad\n",
    "Eureka\n",
    "Fresno\n",
    "lake Tahoe,So\n",
    "Las Vegas\n",
    "Long Beach\n",
    "Los Angeles\n",
    "Merced\n",
    "Modesto\n",
    "Monterey\n",
    "Oakland\n",
    "Palm Springs\n",
    "Redding\n",
    "Sacremento\n",
    "San Bernardino\n",
    "San diego\n",
    "San Francisco\n",
    "Sanjose\n",
    "San Luis Obispo\n",
    "Santa Barbara\n",
    "San Cruz\n",
    "Santa Rosa\n",
    "Sequoia Park\n",
    "Stockton\n",
    "Yosemite\n",
    "\"\"\"\n",
    "# converting the cities into list \n",
    "cities = [c for c in cities.split('\\n') if c != '']"
   ]
  },
  {
   "cell_type": "code",
   "execution_count": null,
   "id": "af091038",
   "metadata": {},
   "outputs": [],
   "source": [
    "## encoding the number with names\n",
    "nameEncoding={}\n",
    "count=0\n",
    "for j in cities:\n",
    "    if j not in nameEncoding:\n",
    "        nameEncoding[count]=j\n",
    "        count+=1\n",
    "print(nameEncoding)\n",
    "    "
   ]
  },
  {
   "cell_type": "code",
   "execution_count": null,
   "id": "b96e2d9b",
   "metadata": {},
   "outputs": [],
   "source": [
    "#encoding names with numbers\n",
    "numberEncoding={}\n",
    "count=0\n",
    "for j in cities:\n",
    "    if j not in numberEncoding:\n",
    "        numberEncoding[j]=count\n",
    "        count+=1\n",
    "print(numberEncoding)"
   ]
  },
  {
   "cell_type": "code",
   "execution_count": null,
   "id": "449fb453",
   "metadata": {},
   "outputs": [],
   "source": [
    "#given distance matrix\n",
    "distance=np.array([\n",
    "     [0,129,206,569,107,360,284,144,115,162,200,231,288,226,436,272,174,231,297,252,118,146,258,347,121,227,200],\n",
    "     [129,0,153,696,236,395,155,139,130,291,329,360,417,123,565,401,71,176,426,381,247,225,387,476,250,356,329],\n",
    "     [206,153,0,777,315,780,312,82,93,370,406,428,496,116,644,480,827,23,505,460,293,188,466,565,329,435,408],\n",
    "     [569,696,777,0,462,398,797,713,694,407,369,388,291,795,150,314,43,800,272,317,504,609,349,222,544,356,488],\n",
    "     [107,236,315,462,0,388,408,251,222,55,93,152,181,333,329,185,281,338,190,145,137,242,151,240,82,120,93],\n",
    "     [360,395,780,398,388,0,466,479,456,194,156,266,195,435,249,107,436,542,192,197,197,492,229,199,335,131,133],\n",
    "     [284,155,312,797,408,466,0,314,302,446,484,504,567,276,640,587,228,332,568,524,414,354,524,610,408,510,435],\n",
    "     [144,139,82,713,251,479,314,0,29,306,344,364,432,112,580,416,68,105,441,396,229,124,402,491,265,371,344],\n",
    "     [115,130,93,694,222,456,302,29,0,277,315,335,403,111,551,387,59,116,412,367,200,95,373,462,236,342,315],\n",
    "     [162,291,370,407,55,194,446,306,277,0,37,118,126,388,274,110,336,393,135,115,192,297,118,185,137,65,81],\n",
    "     [200,329,406,369,93,156,484,344,315,37,0,153,88,426,236,72,374,431,97,82,230,335,114,147,175,27,119],\n",
    "     [231,360,428,388,152,266,504,364,335,118,153,0,111,446,325,185,394,451,116,71,135,240,45,166,234,140,199],\n",
    "     [288,417,496,291,181,195,567,432,403,126,88,111,0,514,214,87,462,519,9,40,227,332,72,59,263,75,207],\n",
    "     [226,123,116,798,333,435,276,112,111,388,426,446,514,0,682,498,52,139,523,478,311,206,484,573,347,453,426],\n",
    "     [436,565,644,150,329,249,640,580,551,274,236,325,214,682,0,164,610,667,223,254,411,546,286,251,411,209,355],\n",
    "     [272,401,450,314,155,107,587,416,387,110,72,185,87,498,164,0,446,503,87,114,301,406,146,103,247,45,191],\n",
    "     [174,71,827,43,281,436,228,68,59,336,374,394,462,52,610,446,0,105,471,426,259,254,432,521,295,401,374],\n",
    "     [231,176,23,800,338,542,332,105,116,393,431,451,519,139,667,503,105,0,528,483,316,211,489,578,352,458,431],\n",
    "     [297,426,505,272,190,192,568,441,412,135,97,116,9,523,223,87,471,528,0,45,232,337,77,50,272,84,216],\n",
    "     [252,381,460,317,145,197,524,396,367,114,82,71,40,478,254,114,426,483,45,0,187,292,32,95,227,69,195],\n",
    "     [118,247,293,504,137,197,414,229,200,192,230,135,227,311,411,301,259,316,232,187,0,105,180,282,174,256,230],\n",
    "     [146,225,155,604,242,492,354,124,95,297,335,240,332,206,546,406,254,211,337,292,105,0,285,387,287,361,335],\n",
    "     [258,387,466,349,349,151,229,524,402,373,118,114,45,72,484,286,146,432,489,77,32,180,285,0,127,233,101,199],\n",
    "     [347,476,565,222,240,199,610,491,462,185,147,166,59,573,251,103,521,578,50,95,282,357,127,0,322,134,266],\n",
    "     [121,250,329,544,82,335,408,265,236,137,175,234,263,347,411,247,295,352,272,227,174,287,233,322,0,202,175],\n",
    "     [227,356,435,356,120,131,520,371,342,65,27,140,75,453,209,45,401,458,84,69,256,361,101,134,202,0,146],\n",
    "     [200,329,408,488,93,133,435,344,315,81,119,199,207,426,355,91,374,431,216,195,230,335,199,266,175,146,0]],dtype=object)\n",
    "     "
   ]
  },
  {
   "cell_type": "code",
   "execution_count": null,
   "id": "61f9fb6a",
   "metadata": {},
   "outputs": [],
   "source": [
    "# population=30\n",
    "population=30\n",
    "#taking 'bakersfield' as start\n",
    "startingCity=0\n",
    "crossCount=3"
   ]
  },
  {
   "cell_type": "code",
   "execution_count": null,
   "id": "ff75ba7e",
   "metadata": {},
   "outputs": [],
   "source": [
    "# function to create the list of the chromosome and only created once \n",
    "def startingChromosome(population=30,cities=cities,startingCity=0):\n",
    "        #empty list for the chromosomes\n",
    "        chromosomes=[]\n",
    "\n",
    "        for j in range(population):\n",
    "            citiesCopy=copy.deepcopy(cities)\n",
    "            # choosing the first city \n",
    "            first=citiesCopy[startingCity]\n",
    "            # empty list for the single chromosome for each population\n",
    "            c=[]\n",
    "            c.append(first)# first city is fixed\n",
    "            # appending cities except the first one in random order\n",
    "            for i in random.sample([i for i in range(27) if i!=startingCity],26):\n",
    "                c.append(cities[i])\n",
    "\n",
    "            c.append(first)# final city is same as the first\n",
    "            chromosomes.append(c)\n",
    "        return chromosomes"
   ]
  },
  {
   "cell_type": "code",
   "execution_count": null,
   "id": "5040e973",
   "metadata": {},
   "outputs": [],
   "source": [
    "chromosomes=startingChromosome(population,cities,startingCity)\n",
    "print(\"Total no of chromosomes \",len(chromosomes))\n",
    "print(chromosomes)\n",
    "print(\"First chromosome\",len(chromosomes[0]))"
   ]
  },
  {
   "cell_type": "code",
   "execution_count": null,
   "id": "a85b9a3d",
   "metadata": {},
   "outputs": [],
   "source": [
    "# function to calculate the pathDistance (distance of the path)\n",
    "def pathDistance(population,chromosomes,distance):\n",
    "        #initializing empty list for the calculated distance\n",
    "        dist1=[]\n",
    "        # runned to generate the distance for the every population\n",
    "        for i in range(population):\n",
    "            #initial sum of the distance is zero\n",
    "            c=0\n",
    "            for j in range(len(chromosomes[0])-1):\n",
    "              # calculating the distance of the all the path using the distance matrix given with the distances\n",
    "                c+=distance[numberEncoding[chromosomes[i][j]]][numberEncoding[chromosomes[i][j+1]]]\n",
    "            dist1.append(c)\n",
    "        return dist1"
   ]
  },
  {
   "cell_type": "code",
   "execution_count": null,
   "id": "4be09421",
   "metadata": {},
   "outputs": [],
   "source": [
    "distance1=pathDistance(population,chromosomes,distance)\n",
    "print(distance1)"
   ]
  },
  {
   "cell_type": "code",
   "execution_count": null,
   "id": "66815a6a",
   "metadata": {},
   "outputs": [],
   "source": [
    "# function to calculate the rank for the pathDistance produced\n",
    "# min distance is given the higher rank \n",
    "# max distance is given the lower rank\n",
    "def rank(distance):\n",
    "  selections={}\n",
    "\n",
    "  rank=[sorted(distance,reverse=True).index(x)+1 for x in distance]\n",
    "  pathRank=dict(zip(rank,distance))\n",
    "  for i,j in pathRank.items():\n",
    "      selections[j]=(i/(25*24))*100\n",
    "  return selections"
   ]
  },
  {
   "cell_type": "code",
   "execution_count": null,
   "id": "6370565b",
   "metadata": {},
   "outputs": [],
   "source": [
    "selections=rank(distance1)\n",
    "print(selections)"
   ]
  },
  {
   "cell_type": "code",
   "execution_count": null,
   "id": "7750fe6d",
   "metadata": {},
   "outputs": [],
   "source": [
    "# Thought of using 2 cross selections but there are some invalid paths coming \n",
    "# using a single cross with \n",
    "def recombine(selections,distance,crossCount,chromosomes):\n",
    "  #chromosomes=startingChromosome(population,cities,startingCity)\n",
    "  #offSpring1=[]\n",
    "  a=sorted(list(selections.values()))\n",
    "  m1=a[-1]\n",
    "  m2=a[-2]\n",
    "  key1=[r for r,t in selections.items() if t==m1]\n",
    "  key2=[r for r,t in selections.items() if t==m2]\n",
    "  \n",
    "  parent1=chromosomes[distance.index(key1[0])]\n",
    "  parent2=chromosomes[distance.index(key2[0])]\n",
    "  \n",
    "  \n",
    "  for i in range(crossCount):\n",
    "    \n",
    "    parent1_Crossing=parent1[1:27]\n",
    "    parent2_Crossing=parent2[1:27]\n",
    "    \n",
    "  # print(\"before\",parent2)\n",
    "    #print(len(parent2))\n",
    "    #print(\"parent 1\",parent1,key1)\n",
    "    #print(\"_______________\")\n",
    "    #print(\"parent2\",parent2,chromosomes[distance.index(key2[0])])\n",
    "    n1=random.randint(1,27)\n",
    "    t=len(parent1)\n",
    "    selected=parent1_Crossing[n1:]\n",
    "  # print(selected)\n",
    "    for i in selected:\n",
    "        parent2_Crossing.remove(i)\n",
    "    random.shuffle(selected)\n",
    "    #print(\"___________________________\")\n",
    "    #new offspring\n",
    "    parent2=[parent1[0]]+parent2_Crossing+selected+[parent1[-1]]\n",
    "    #print(\"after\",parent2)\n",
    "  \"\"\"\n",
    "  for cross in range(crossCount):\n",
    "\n",
    "    \n",
    "    \n",
    "    offspring2=parent1[:n1]+parent1[t-n1:t-1]+parent1[n1:t-n1]+parent1[:1]\n",
    "    offSpring1.extend(parent1[:n1])\n",
    "    offSpring1.extend(parent1[t-n1:t-1])\n",
    "    offSpring1.extend(parent1[n1:t-n1])\n",
    "    offSpring1.extend([parent1[0]])\n",
    "\n",
    "    #print(\"offSpring1\",len(offspring2),n1)\n",
    "\n",
    "  \"\"\" \n",
    "  #print(len(parent2))\n",
    "  return parent2\n"
   ]
  },
  {
   "cell_type": "code",
   "execution_count": null,
   "id": "607c6c83",
   "metadata": {},
   "outputs": [],
   "source": [
    "for i in range(500):\n",
    "  offSpring1=recombine(selections,distance1,4,chromosomes)"
   ]
  },
  {
   "cell_type": "code",
   "execution_count": null,
   "id": "500e2953",
   "metadata": {},
   "outputs": [],
   "source": [
    "# function to mutation\n",
    "# exchanging the cities of two randomly generated index \n",
    "def mutation(offSpring1,mutationCount):\n",
    "  for mut in range(mutationCount):\n",
    "    index1=random.sample([i for i in range(1,27)],1)\n",
    "    index2=random.sample([i for i in range(1,27)],1)\n",
    "    \n",
    "    \n",
    "    city1=offSpring1[index1[0]]\n",
    "    city2=offSpring1[index2[0]]\n",
    "\n",
    "    offSpring1[index1[0]]=city2\n",
    "    offSpring1[index2[0]]=city1\n",
    "  # adding the newly generated chromosome to the pool of chromosomes initally created \n",
    "  chromosomes.append(offSpring1)\n",
    "  return chromosomes\n",
    "            "
   ]
  },
  {
   "cell_type": "code",
   "execution_count": null,
   "id": "ea66c7a1",
   "metadata": {},
   "outputs": [],
   "source": [
    "# function to removing the worst gene i.e gene with maximum distance\n",
    "def removingGenes(population,distance,cities,startingCity,crossCount,mutationCount,steps=15):\n",
    "  #initial chromomsome creation\n",
    "  chromosomes=startingChromosome(population,cities,startingCity)\n",
    "  #print(chromosomes)\n",
    "  # calculating the fitness score for the generated chromosomes\n",
    "  distanc=pathDistance(population,chromosomes,distance)\n",
    " # print(distanc)\n",
    " #getting the rank of the each chromosome\n",
    "  selections=rank(distanc)\n",
    "  # new generation calculation with crossing and mutation\n",
    "  for i in range(steps):\n",
    "    offspring=recombine(selections,distanc,crossCount,chromosomes)\n",
    "    newGenes=mutation(offspring,mutationCount)\n",
    "    newDist=pathDistance(population,newGenes,distance)\n",
    "\n",
    "#getting the worst index with highest distance\n",
    "    worstIndex=newDist.index(max(newDist))\n",
    "# removing the gene with highest distance\n",
    "    del newGenes[worstIndex]\n",
    "    del newDist[worstIndex]\n",
    "# returning the minimum distance and best path\n",
    "  return min(newDist),chromosomes[newDist.index(min(newDist))]"
   ]
  },
  {
   "cell_type": "code",
   "execution_count": null,
   "id": "a2238135",
   "metadata": {},
   "outputs": [],
   "source": [
    "removingGenes(population,distance,cities,startingCity,4,3,steps=15)"
   ]
  },
  {
   "cell_type": "code",
   "execution_count": null,
   "id": "891d9e2f",
   "metadata": {},
   "outputs": [],
   "source": [
    "#To carry out the generations and to get the shortest pathuntill it attains the local minima\n",
    "iterations=2000\n"
   ]
  },
  {
   "cell_type": "code",
   "execution_count": null,
   "id": "aaf8e67a",
   "metadata": {},
   "outputs": [],
   "source": [
    "# function to converge the \n",
    "def converge(iterations,cross_prob,mutation_prob):\n",
    "  #This is the shortest value to multiply with the mutation\n",
    "  epsilon=1-1/iterations\n",
    "  # removing gene is caried out 1000 times\n",
    "  short_d=[]\n",
    "  for i in range(iterations):\n",
    "      crossCount=int((1-epsilon)*cross_prob*len(cities)-1)\n",
    "      mutationCount=int((epsilon*cross_prob*len(cities)-1)/2)\n",
    "      values = removingGenes(population,distance,cities,startingCity,crossCount,mutationCount,steps=100)\n",
    "      currentScore = values[0]\n",
    "      short_d.append(currentScore)\n",
    "      currentBestGene = values[1]\n",
    "      epsilon -= 1/iterations\n",
    "      \n",
    "      print(f\"distance {currentScore} miles\") \n",
    "  print(\"shortest path for the problem \",currentBestGene)      \n",
    "  return currentBestGene,short_d"
   ]
  },
  {
   "cell_type": "code",
   "execution_count": null,
   "id": "c227c865",
   "metadata": {},
   "outputs": [],
   "source": [
    "import matplotlib.pyplot as plt\n",
    "from scipy.interpolate import make_interp_spline"
   ]
  },
  {
   "cell_type": "code",
   "execution_count": null,
   "id": "d9617fae",
   "metadata": {},
   "outputs": [],
   "source": [
    "qwe=converge(iterations,0.5,0.3)"
   ]
  },
  {
   "cell_type": "code",
   "execution_count": null,
   "id": "acbc56ce",
   "metadata": {},
   "outputs": [],
   "source": [
    "import seaborn as sns"
   ]
  },
  {
   "cell_type": "code",
   "execution_count": null,
   "id": "f56f9bef",
   "metadata": {},
   "outputs": [],
   "source": [
    "#x=[i for i in range(2000)]\n",
    "#y=qwe[1]\n",
    "sns.lineplot(x=[i for i in range(2000)],y=qwe[1])\n",
    "plt.xlabel(\"generations\")\n",
    "plt.ylabel(\"distance\")\n",
    "plt.show()\n"
   ]
  },
  {
   "cell_type": "code",
   "execution_count": null,
   "id": "9b1a62de",
   "metadata": {},
   "outputs": [],
   "source": [
    "x=[i for i in range(2000)]\n",
    "y=qwe[1]\n",
    "xySpline = make_interp_spline(x, y)\n",
    " \n",
    "# Returns evenly spaced numbers\n",
    "# over a specified interval.\n",
    "x1 = np.linspace(min(x), max(x), 100)\n",
    "y1 = xySpline(x1)\n",
    "plt.scatter(x,y)\n",
    "plt.xlabel(\"generations\")\n",
    "plt.ylabel(\"distance\")\n",
    "plt.show()"
   ]
  },
  {
   "cell_type": "code",
   "execution_count": null,
   "id": "42096314",
   "metadata": {},
   "outputs": [],
   "source": []
  }
 ],
 "metadata": {
  "kernelspec": {
   "display_name": "Python 3 (ipykernel)",
   "language": "python",
   "name": "python3"
  },
  "language_info": {
   "codemirror_mode": {
    "name": "ipython",
    "version": 3
   },
   "file_extension": ".py",
   "mimetype": "text/x-python",
   "name": "python",
   "nbconvert_exporter": "python",
   "pygments_lexer": "ipython3",
   "version": "3.10.7"
  }
 },
 "nbformat": 4,
 "nbformat_minor": 5
}
