{
 "cells": [
  {
   "cell_type": "code",
   "execution_count": null,
   "id": "5d2c3bc0",
   "metadata": {},
   "outputs": [],
   "source": [
    "#Importing libraries\n",
    "import random\n",
    "import numpy as np\n",
    "import copy\n",
    "import matplotlib.pyplot as plt\n",
    "from scipy.interpolate import make_interp_spline\n",
    "import seaborn as sns"
   ]
  },
  {
   "cell_type": "code",
   "execution_count": null,
   "id": "faa60afd",
   "metadata": {},
   "outputs": [],
   "source": [
    "#list of the cities given\n",
    "cities=\"\"\"\n",
    "Bakersfield\n",
    "Barstow\n",
    "carlsbad\n",
    "Eureka\n",
    "Fresno\n",
    "lake Tahoe,So\n",
    "Las Vegas\n",
    "Long Beach\n",
    "Los Angeles\n",
    "Merced\n",
    "Modesto\n",
    "Monterey\n",
    "Oakland\n",
    "Palm Springs\n",
    "Redding\n",
    "Sacremento\n",
    "San Bernardino\n",
    "San diego\n",
    "San Francisco\n",
    "Sanjose\n",
    "San Luis Obispo\n",
    "Santa Barbara\n",
    "San Cruz\n",
    "Santa Rosa\n",
    "Sequoia Park\n",
    "Stockton\n",
    "Yosemite\n",
    "\"\"\"\n",
    "# converting the cities into list \n",
    "cities = [c for c in cities.split('\\n') if c != '']"
   ]
  },
  {
   "cell_type": "code",
   "execution_count": null,
   "id": "6892868b",
   "metadata": {},
   "outputs": [],
   "source": [
    "print(cities)"
   ]
  },
  {
   "cell_type": "code",
   "execution_count": null,
   "id": "bd483a8a",
   "metadata": {},
   "outputs": [],
   "source": []
  }
 ],
 "metadata": {
  "kernelspec": {
   "display_name": "Python 3 (ipykernel)",
   "language": "python",
   "name": "python3"
  }
 },
 "nbformat": 4,
 "nbformat_minor": 5
}
